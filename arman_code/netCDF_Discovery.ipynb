{
 "cells": [
  {
   "cell_type": "code",
   "execution_count": 1,
   "id": "0a1eec06",
   "metadata": {},
   "outputs": [],
   "source": [
    "# Necessary imports to work with netCDF 3D arrays\n",
    "import xarray\n",
    "import rioxarray\n",
    "import matplotlib.pyplot as plt\n",
    "import numpy as np\n",
    "import pandas as pd\n",
    "import requests\n",
    "import itertools"
   ]
  },
  {
   "cell_type": "code",
   "execution_count": 15,
   "id": "a8631d9f",
   "metadata": {},
   "outputs": [],
   "source": [
    "# Elevation map of the Americas\n",
    "fn_lake = 'reservoir.nc'\n",
    "fn_river = 'test.nc' \n",
    "data_lake = xarray.open_dataset(fn_lake)\n",
    "data_river = xarray.open_dataset(fn_river)"
   ]
  },
  {
   "cell_type": "code",
   "execution_count": 18,
   "id": "9a863769",
   "metadata": {},
   "outputs": [],
   "source": [
    "data = data_lake['water_sfc_elev']"
   ]
  },
  {
   "cell_type": "code",
   "execution_count": 36,
   "id": "54c44e47",
   "metadata": {},
   "outputs": [],
   "source": [
    "#This is the water surface elevation data coerced into a dataframe with latitude and longitude\n",
    "df_sfc_elev = data.to_dataframe()"
   ]
  },
  {
   "cell_type": "code",
   "execution_count": 34,
   "id": "ec972703",
   "metadata": {},
   "outputs": [],
   "source": [
    "#This is the streamflow information coerced into a dataframe\n",
    "df_str_flow = data_river['streamflow'].to_dataframe()\n",
    "df_nudge = data_river['nudge'].to_dataframe()\n"
   ]
  },
  {
   "cell_type": "code",
   "execution_count": 39,
   "id": "fd9bac3c",
   "metadata": {},
   "outputs": [
    {
     "name": "stdout",
     "output_type": "stream",
     "text": [
      "<class 'pandas.core.frame.DataFrame'>\n",
      "Int64Index: 2776738 entries, 101 to 1180001804\n",
      "Data columns (total 1 columns):\n",
      " #   Column      Dtype  \n",
      "---  ------      -----  \n",
      " 0   streamflow  float64\n",
      "dtypes: float64(1)\n",
      "memory usage: 42.4 MB\n"
     ]
    }
   ],
   "source": [
    "df_str_flow.info()"
   ]
  },
  {
   "cell_type": "code",
   "execution_count": null,
   "id": "ff00752a",
   "metadata": {},
   "outputs": [],
   "source": []
  },
  {
   "cell_type": "code",
   "execution_count": 13,
   "id": "e4b7c03e",
   "metadata": {},
   "outputs": [
    {
     "data": {
      "text/plain": [
       "Frozen({'time': 1, 'reference_time': 1, 'x': 18432, 'y': 15360})"
      ]
     },
     "execution_count": 13,
     "metadata": {},
     "output_type": "execute_result"
    }
   ],
   "source": [
    "# data is our data object containing the .nc contents\n",
    "data.dims"
   ]
  },
  {
   "cell_type": "code",
   "execution_count": 43,
   "id": "02649662",
   "metadata": {},
   "outputs": [
    {
     "data": {
      "text/html": [
       "<div>\n",
       "<style scoped>\n",
       "    .dataframe tbody tr th:only-of-type {\n",
       "        vertical-align: middle;\n",
       "    }\n",
       "\n",
       "    .dataframe tbody tr th {\n",
       "        vertical-align: top;\n",
       "    }\n",
       "\n",
       "    .dataframe thead th {\n",
       "        text-align: right;\n",
       "    }\n",
       "</style>\n",
       "<table border=\"1\" class=\"dataframe\">\n",
       "  <thead>\n",
       "    <tr style=\"text-align: right;\">\n",
       "      <th></th>\n",
       "      <th>nudge</th>\n",
       "    </tr>\n",
       "    <tr>\n",
       "      <th>feature_id</th>\n",
       "      <th></th>\n",
       "    </tr>\n",
       "  </thead>\n",
       "  <tbody>\n",
       "    <tr>\n",
       "      <th>101</th>\n",
       "      <td>0.0</td>\n",
       "    </tr>\n",
       "    <tr>\n",
       "      <th>179</th>\n",
       "      <td>0.0</td>\n",
       "    </tr>\n",
       "    <tr>\n",
       "      <th>181</th>\n",
       "      <td>0.0</td>\n",
       "    </tr>\n",
       "    <tr>\n",
       "      <th>183</th>\n",
       "      <td>0.0</td>\n",
       "    </tr>\n",
       "    <tr>\n",
       "      <th>185</th>\n",
       "      <td>0.0</td>\n",
       "    </tr>\n",
       "    <tr>\n",
       "      <th>...</th>\n",
       "      <td>...</td>\n",
       "    </tr>\n",
       "    <tr>\n",
       "      <th>1180001800</th>\n",
       "      <td>0.0</td>\n",
       "    </tr>\n",
       "    <tr>\n",
       "      <th>1180001801</th>\n",
       "      <td>0.0</td>\n",
       "    </tr>\n",
       "    <tr>\n",
       "      <th>1180001802</th>\n",
       "      <td>0.0</td>\n",
       "    </tr>\n",
       "    <tr>\n",
       "      <th>1180001803</th>\n",
       "      <td>0.0</td>\n",
       "    </tr>\n",
       "    <tr>\n",
       "      <th>1180001804</th>\n",
       "      <td>0.0</td>\n",
       "    </tr>\n",
       "  </tbody>\n",
       "</table>\n",
       "<p>2776738 rows × 1 columns</p>\n",
       "</div>"
      ],
      "text/plain": [
       "            nudge\n",
       "feature_id       \n",
       "101           0.0\n",
       "179           0.0\n",
       "181           0.0\n",
       "183           0.0\n",
       "185           0.0\n",
       "...           ...\n",
       "1180001800    0.0\n",
       "1180001801    0.0\n",
       "1180001802    0.0\n",
       "1180001803    0.0\n",
       "1180001804    0.0\n",
       "\n",
       "[2776738 rows x 1 columns]"
      ]
     },
     "execution_count": 43,
     "metadata": {},
     "output_type": "execute_result"
    }
   ],
   "source": [
    "# Get a sense of how our data is structured\n",
    "df_nudge"
   ]
  },
  {
   "cell_type": "code",
   "execution_count": null,
   "id": "d98bb02d",
   "metadata": {},
   "outputs": [],
   "source": [
    "#Create a function that uses the location elevation coordinates that were provided, and calculates whether or not the area\n",
    "#is expected to be flooded - leveraging the NWM data + the USGS data in conjunction with the elevation data provided\n",
    "#by Jon and we should hopefully have a decent feel for the model\n",
    "\n",
    "def floodProj():\n",
    "    \n",
    "    "
   ]
  }
 ],
 "metadata": {
  "kernelspec": {
   "display_name": "Python 3 (ipykernel)",
   "language": "python",
   "name": "python3"
  },
  "language_info": {
   "codemirror_mode": {
    "name": "ipython",
    "version": 3
   },
   "file_extension": ".py",
   "mimetype": "text/x-python",
   "name": "python",
   "nbconvert_exporter": "python",
   "pygments_lexer": "ipython3",
   "version": "3.9.12"
  }
 },
 "nbformat": 4,
 "nbformat_minor": 5
}
