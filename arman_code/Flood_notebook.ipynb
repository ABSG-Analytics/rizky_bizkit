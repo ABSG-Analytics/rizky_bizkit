{
 "cells": [
  {
   "cell_type": "code",
   "execution_count": null,
   "id": "f59785d6",
   "metadata": {},
   "outputs": [],
   "source": [
    "import numpy as np\n",
    "import pandas as pd \n",
    "import shutil, glob\n",
    "import matplotlib.pyplot as plt\n",
    "import descartes\n",
    "import geopandas as gpd\n",
    "from shapely.geometry import Point, Polygon\n",
    "import imageio\n",
    "import cv2\n",
    "\n",
    "#Create a mergefile that is a combination of our individual state outfiles\n",
    "with open('mergefile.txt', 'wb') as outfile:\n",
    "    for filename in glob.glob('*.txt'):\n",
    "        if filename == 'mergefile.txt':\n",
    "            # don't want to copy the output into the output\n",
    "            continue\n",
    "        with open(filename, 'rb') as readfile:\n",
    "            shutil.copyfileobj(readfile, outfile)\n",
    "\n",
    "#Create our \n",
    "df = pd.DataFrame(pd.read_csv('mergefile.txt'))\n",
    "df['isFlooded'] = 0\n",
    "df[['Discharge', 'Date', 'Length of Record', 'Class', '% Normal Median', '% Normal Mean']] = df.flowinfo.str.split(\";\", expand = True)\n",
    "df.lat = pd.to_numeric(df.lat, errors ='coerce').fillna(0).astype('float')\n",
    "df.lng = pd.to_numeric(df.lng, errors ='coerce').fillna(0).astype('float')"
   ]
  },
  {
   "cell_type": "code",
   "execution_count": null,
   "id": "ef52b1ca",
   "metadata": {},
   "outputs": [],
   "source": [
    "df"
   ]
  },
  {
   "cell_type": "code",
   "execution_count": null,
   "id": "83213923",
   "metadata": {},
   "outputs": [],
   "source": [
    "#Add point to df using geopandas\n",
    "gdf = gpd.GeoDataFrame(\n",
    "    df, geometry=gpd.points_from_xy(df.lng, df.lat), crs=\"EPSG:4326\"\n",
    ")"
   ]
  },
  {
   "cell_type": "code",
   "execution_count": null,
   "id": "ebb62ab3",
   "metadata": {},
   "outputs": [],
   "source": [
    "import folium\n",
    "import pandas as pd\n",
    "\n",
    "#create a map\n",
    "this_map = folium.Map(prefer_canvas=True)\n",
    "\n",
    "def plotDot(point):\n",
    "    '''input: series that contains a numeric named latitude and a numeric named longitude\n",
    "    this function creates a CircleMarker and adds it to your this_map'''\n",
    "    folium.CircleMarker(location=[point.lat, point.lng],\n",
    "                        radius=2,\n",
    "                        weight=5).add_to(this_map)\n",
    "\n",
    "#use df.apply(,axis=1) to \"iterate\" through every row in your dataframe\n",
    "df.apply(plotDot, axis = 1)\n",
    "\n",
    "\n",
    "#Set the zoom to the maximum possible\n",
    "this_map.fit_bounds(this_map.get_bounds())\n",
    "\n",
    "#Save the map to an HTML file\n",
    "this_map.save('simple_dot_plot.html')\n",
    "\n",
    "this_map"
   ]
  },
  {
   "cell_type": "code",
   "execution_count": null,
   "id": "672ffd3a",
   "metadata": {},
   "outputs": [],
   "source": [
    "# # # Instantiate Driver and import necessary libraries for web scraping\n",
    "# from selenium import webdriver\n",
    "# from selenium.webdriver.common.by import By\n",
    "# from selenium.webdriver.support.select import Select\n",
    "# url= 'https://waterwatch.usgs.gov/index.php?id=flood&sid=w__table&r=us'\n",
    "# driver = webdriver.Chrome()\n",
    "# driver.get(url)\n",
    "\n",
    "# #Get the table elements for the already flooded data\n",
    "# flooded_rows = driver.find_elements(By.XPATH, \"//tr\")\n",
    "\n",
    "# #List of the flood indicated USGS sites\n",
    "# list_flooded = []\n",
    "# for i in range(len(flooded_rows)):\n",
    "#     list_flooded.append(flooded_rows[i].text)\n",
    "\n",
    "# df2 = pd.DataFrame(list_flooded[5:])\n",
    "\n",
    "# list_flooded = list_flooded[5:]"
   ]
  },
  {
   "cell_type": "code",
   "execution_count": null,
   "id": "ca046adc",
   "metadata": {},
   "outputs": [],
   "source": [
    "# for i in range(len(list_flooded)):\n",
    "#     if df['name'].str.contains(list_flooded[i][0:7]).any():\n",
    "        "
   ]
  },
  {
   "cell_type": "code",
   "execution_count": null,
   "id": "fe294d57",
   "metadata": {},
   "outputs": [],
   "source": [
    "list_flooded"
   ]
  },
  {
   "cell_type": "code",
   "execution_count": null,
   "id": "2c0cfb8f",
   "metadata": {},
   "outputs": [],
   "source": [
    "import json\n",
    "\n",
    "\n",
    "m = folium.Map(tiles=\"Stamen Terrain\", zoom_start=7, control_scale=True, max_bounds = True)\n",
    "for _, row in df.iterrows():\n",
    "    if row.Class == 'Class: High':\n",
    "        folium.CircleMarker([row.lat, row.lng],\n",
    "                          popup=row.name,\n",
    "                          radius=1,\n",
    "                          color = 'red',\n",
    "                          ).add_to(m)\n",
    "    elif row.Class == 'Class: 76-90':\n",
    "        folium.CircleMarker([row.lat, row.lng],\n",
    "                          popup=row.name,\n",
    "                          radius=1,\n",
    "                          color = 'orange',\n",
    "                          ).add_to(m)\n",
    "    elif row.Class == 'Class: 25-75':\n",
    "        folium.CircleMarker([row.lat, row.lng],\n",
    "                          popup=row.name,\n",
    "                          radius=1,\n",
    "                          color = 'yellow',\n",
    "                          ).add_to(m)\n",
    "    elif row.Class == 'Class: High':\n",
    "        folium.CircleMarker([row.lat, row.lng],\n",
    "                          popup=row.name,\n",
    "                          radius=1,\n",
    "                          color = 'purple',\n",
    "                          ).add_to(m)\n",
    "    else:\n",
    "        folium.CircleMarker([row.lat, row.lng],\n",
    "                          popup=row.name,\n",
    "                          radius=1,\n",
    "                          color = 'yellow',\n",
    "                          ).add_to(m)\n",
    "        \n",
    "m"
   ]
  },
  {
   "cell_type": "code",
   "execution_count": null,
   "id": "571f0b0f",
   "metadata": {},
   "outputs": [],
   "source": [
    "import folium\n",
    "import json\n",
    "\n",
    "with open('gz_2010_us_050_00_500k.json') as handle:\n",
    "    country_geo = json.loads(handle.read())\n",
    "\n",
    "m = folium.Map(location = [df['lat'][5], df['lng'][5]],\n",
    "               zoom_start=6,\n",
    "               min_zoom = 5,\n",
    "               max_zoom = 7)\n",
    "\n",
    "\n",
    "folium.GeoJson(country_geo).add_to(m)\n",
    "\n",
    "folium.LayerControl().add_to(m)\n",
    "\n",
    "m"
   ]
  },
  {
   "cell_type": "code",
   "execution_count": null,
   "id": "890dd8fb",
   "metadata": {},
   "outputs": [],
   "source": [
    "from netCDF4 import Dataset\n",
    "from mpl_toolkits import *"
   ]
  },
  {
   "cell_type": "code",
   "execution_count": null,
   "id": "9dc5dbda",
   "metadata": {},
   "outputs": [],
   "source": []
  }
 ],
 "metadata": {
  "kernelspec": {
   "display_name": "Python 3 (ipykernel)",
   "language": "python",
   "name": "python3"
  },
  "language_info": {
   "codemirror_mode": {
    "name": "ipython",
    "version": 3
   },
   "file_extension": ".py",
   "mimetype": "text/x-python",
   "name": "python",
   "nbconvert_exporter": "python",
   "pygments_lexer": "ipython3",
   "version": "3.9.12"
  }
 },
 "nbformat": 4,
 "nbformat_minor": 5
}
