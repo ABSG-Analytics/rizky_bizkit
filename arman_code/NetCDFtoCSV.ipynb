{
 "cells": [
  {
   "cell_type": "code",
   "execution_count": null,
   "id": "615be42b",
   "metadata": {},
   "outputs": [],
   "source": [
    "#Convert NetCDF to CSV\n",
    "import xarray\n",
    "import rioxarray\n",
    "\n",
    "#Put in your file name\n",
    "file = 'filename.nc' \n",
    "\n",
    "#Create dataframe from file\n",
    "dataset = xarray.open_dataset(file)\n",
    "dataframe = dataset.to_dataframe()\n",
    "\n",
    "#Save as a CSV\n",
    "dataframe.to_csv('csvname.csv')"
   ]
  },
  {
   "cell_type": "code",
   "execution_count": null,
   "id": "54a05e86",
   "metadata": {},
   "outputs": [],
   "source": [
    "#Other useful commands\n",
    "\n",
    "#See the variables as well as their metadata\n",
    "dataset.info()"
   ]
  }
 ],
 "metadata": {
  "kernelspec": {
   "display_name": "Python 3 (ipykernel)",
   "language": "python",
   "name": "python3"
  },
  "language_info": {
   "codemirror_mode": {
    "name": "ipython",
    "version": 3
   },
   "file_extension": ".py",
   "mimetype": "text/x-python",
   "name": "python",
   "nbconvert_exporter": "python",
   "pygments_lexer": "ipython3",
   "version": "3.9.12"
  }
 },
 "nbformat": 4,
 "nbformat_minor": 5
}
